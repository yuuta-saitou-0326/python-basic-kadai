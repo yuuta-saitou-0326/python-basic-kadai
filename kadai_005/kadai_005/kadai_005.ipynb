{
  "nbformat": 4,
  "nbformat_minor": 0,
  "metadata": {
    "colab": {
      "provenance": []
    },
    "kernelspec": {
      "name": "python3",
      "display_name": "Python 3"
    },
    "language_info": {
      "name": "python"
    }
  },
  "cells": [
    {
      "cell_type": "code",
      "execution_count": 1,
      "metadata": {
        "colab": {
          "base_uri": "https://localhost:8080/"
        },
        "id": "MtM0MbZp1hmG",
        "outputId": "d06336eb-0ccc-499d-9374-8eddc4e398c7"
      },
      "outputs": [
        {
          "output_type": "stream",
          "name": "stdout",
          "text": [
            "75.0㎠\n"
          ]
        }
      ],
      "source": [
        "area = (10 + 20) * 5 / 2\n",
        "print (f\"{area}㎠\")"
      ]
    }
  ]
}